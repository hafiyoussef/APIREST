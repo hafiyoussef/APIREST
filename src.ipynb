{
  "nbformat": 4,
  "nbformat_minor": 0,
  "metadata": {
    "colab": {
      "name": "Untitled21.ipynb",
      "provenance": [],
      "collapsed_sections": [],
      "authorship_tag": "ABX9TyPn5cPAaKVesf8JuUPViEcR",
      "include_colab_link": true
    },
    "kernelspec": {
      "name": "python3",
      "display_name": "Python 3"
    }
  },
  "cells": [
    {
      "cell_type": "markdown",
      "metadata": {
        "id": "view-in-github",
        "colab_type": "text"
      },
      "source": [
        "<a href=\"https://colab.research.google.com/github/hafiyoussef/APIREST/blob/master/src.ipynb\" target=\"_parent\"><img src=\"https://colab.research.google.com/assets/colab-badge.svg\" alt=\"Open In Colab\"/></a>"
      ]
    },
    {
      "cell_type": "markdown",
      "metadata": {
        "id": "R1WbvZHlTU7C"
      },
      "source": [
        "# **Compte Rendu TP**"
      ]
    },
    {
      "cell_type": "markdown",
      "metadata": {
        "id": "7g3fNcnHTcWW"
      },
      "source": [
        "**Hmam Aymen**\n",
        "\n"
      ]
    },
    {
      "cell_type": "markdown",
      "metadata": {
        "id": "xxARS4gzTq1K"
      },
      "source": [
        "**Hafi Youssef**"
      ]
    },
    {
      "cell_type": "code",
      "metadata": {
        "id": "tGmQ1E0zEMR8"
      },
      "source": [
        "def droite_moindre_carre(x,y):\n",
        "  xm=np.mean(x)\n",
        "  ym=np.mean(y)\n",
        "  num=0\n",
        "  den=1\n",
        "  for i in range((len(x))):\n",
        "    num += (x[i]-xm)*(y[i]-ym)\n",
        "    den += (x[i]-xm)**2\n",
        "  a=num/den\n",
        "  b=ym-a*xm\n",
        "  return a, b\n"
      ],
      "execution_count": 125,
      "outputs": []
    },
    {
      "cell_type": "code",
      "metadata": {
        "id": "-ZA353MvAj2r"
      },
      "source": [
        "(a1,b1)=droite_moindre_carre(x,y)\n",
        "def droite(a,b,x):\n",
        "  y=[]\n",
        "  for i in (x):\n",
        "    yy=a*i+b\n",
        "    y.append(yy)\n",
        "  return y"
      ],
      "execution_count": 126,
      "outputs": []
    },
    {
      "cell_type": "code",
      "metadata": {
        "colab": {
          "base_uri": "https://localhost:8080/",
          "height": 295
        },
        "id": "bH7tAU4vxuWB",
        "outputId": "ea07233f-ef4f-4aca-de38-f3fad6364dbb"
      },
      "source": [
        "import random as r\n",
        "import matplotlib.pyplot as plt\n",
        "import numpy as np\n",
        "i=0\n",
        "x=[]\n",
        "y=[]\n",
        "z=[]\n",
        "t=[]\n",
        "while(i<50):\n",
        "  x1=r.uniform(0,20)\n",
        "  a=(r.uniform(-5,5))\n",
        "  b=(r.uniform(-5,5))\n",
        "  moy=(a*x1 + b)\n",
        "  z.append((r.uniform(-5,5)))\n",
        "  t.append((r.uniform(-5,5)))\n",
        "  x.append(r.uniform(0,20))\n",
        "  y.append(r.gauss(4,sigma=np.mean(moy)))\n",
        "  i=i+1\n",
        "yd1=droite(np.mean(z),np.mean(t),x)\n",
        "yd2=droite(a1,b1,x)\n",
        "plt.scatter(x,y,label='nuage de points')\n",
        "plt.plot(x,yd1,c='red',label='droite affine avec des coefficient aleatoire ')\n",
        "plt.plot(x,yd2,c='green',label='droite affine trouvée avec la methode moindres carrée')\n",
        "plt.title('Nuage de points avec Matplotlib')\n",
        "plt.xlabel('x')\n",
        "plt.ylabel('y')\n",
        "plt.legend()\n",
        "\n",
        "#plt.savefig('ScatterPlot_01.png')\n",
        "plt.show()"
      ],
      "execution_count": 135,
      "outputs": [
        {
          "output_type": "display_data",
          "data": {
            "image/png": "[encoded data removed]",
            "text/plain": [
              "<Figure size 432x288 with 1 Axes>"
            ]
          },
          "metadata": {
            "tags": [],
            "needs_background": "light"
          }
        }
      ]
    }
  ]
}